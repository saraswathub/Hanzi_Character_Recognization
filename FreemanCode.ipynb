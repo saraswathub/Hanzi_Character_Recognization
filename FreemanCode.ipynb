{
  "nbformat": 4,
  "nbformat_minor": 0,
  "metadata": {
    "colab": {
      "provenance": [],
      "authorship_tag": "ABX9TyM2e+KaB0JR9VLi3eo1qWX8"
    },
    "kernelspec": {
      "name": "python3",
      "display_name": "Python 3"
    },
    "language_info": {
      "name": "python"
    }
  },
  "cells": [
    {
      "cell_type": "code",
      "source": [
        "from google.colab import drive\n",
        "drive.mount('/content/drive')"
      ],
      "metadata": {
        "colab": {
          "base_uri": "https://localhost:8080/",
          "height": 304
        },
        "id": "kbryTZ4_6jFr",
        "outputId": "e0edf165-fd6e-47db-a26a-5032747008c3"
      },
      "execution_count": 3,
      "outputs": [
        {
          "output_type": "error",
          "ename": "MessageError",
          "evalue": "Error: credential propagation was unsuccessful",
          "traceback": [
            "\u001b[0;31m---------------------------------------------------------------------------\u001b[0m",
            "\u001b[0;31mMessageError\u001b[0m                              Traceback (most recent call last)",
            "\u001b[0;32m<ipython-input-3-d5df0069828e>\u001b[0m in \u001b[0;36m<cell line: 0>\u001b[0;34m()\u001b[0m\n\u001b[1;32m      1\u001b[0m \u001b[0;32mfrom\u001b[0m \u001b[0mgoogle\u001b[0m\u001b[0;34m.\u001b[0m\u001b[0mcolab\u001b[0m \u001b[0;32mimport\u001b[0m \u001b[0mdrive\u001b[0m\u001b[0;34m\u001b[0m\u001b[0;34m\u001b[0m\u001b[0m\n\u001b[0;32m----> 2\u001b[0;31m \u001b[0mdrive\u001b[0m\u001b[0;34m.\u001b[0m\u001b[0mmount\u001b[0m\u001b[0;34m(\u001b[0m\u001b[0;34m'/content/drive'\u001b[0m\u001b[0;34m)\u001b[0m\u001b[0;34m\u001b[0m\u001b[0;34m\u001b[0m\u001b[0m\n\u001b[0m",
            "\u001b[0;32m/usr/local/lib/python3.11/dist-packages/google/colab/drive.py\u001b[0m in \u001b[0;36mmount\u001b[0;34m(mountpoint, force_remount, timeout_ms, readonly)\u001b[0m\n\u001b[1;32m     98\u001b[0m \u001b[0;32mdef\u001b[0m \u001b[0mmount\u001b[0m\u001b[0;34m(\u001b[0m\u001b[0mmountpoint\u001b[0m\u001b[0;34m,\u001b[0m \u001b[0mforce_remount\u001b[0m\u001b[0;34m=\u001b[0m\u001b[0;32mFalse\u001b[0m\u001b[0;34m,\u001b[0m \u001b[0mtimeout_ms\u001b[0m\u001b[0;34m=\u001b[0m\u001b[0;36m120000\u001b[0m\u001b[0;34m,\u001b[0m \u001b[0mreadonly\u001b[0m\u001b[0;34m=\u001b[0m\u001b[0;32mFalse\u001b[0m\u001b[0;34m)\u001b[0m\u001b[0;34m:\u001b[0m\u001b[0;34m\u001b[0m\u001b[0;34m\u001b[0m\u001b[0m\n\u001b[1;32m     99\u001b[0m   \u001b[0;34m\"\"\"Mount your Google Drive at the specified mountpoint path.\"\"\"\u001b[0m\u001b[0;34m\u001b[0m\u001b[0;34m\u001b[0m\u001b[0m\n\u001b[0;32m--> 100\u001b[0;31m   return _mount(\n\u001b[0m\u001b[1;32m    101\u001b[0m       \u001b[0mmountpoint\u001b[0m\u001b[0;34m,\u001b[0m\u001b[0;34m\u001b[0m\u001b[0;34m\u001b[0m\u001b[0m\n\u001b[1;32m    102\u001b[0m       \u001b[0mforce_remount\u001b[0m\u001b[0;34m=\u001b[0m\u001b[0mforce_remount\u001b[0m\u001b[0;34m,\u001b[0m\u001b[0;34m\u001b[0m\u001b[0;34m\u001b[0m\u001b[0m\n",
            "\u001b[0;32m/usr/local/lib/python3.11/dist-packages/google/colab/drive.py\u001b[0m in \u001b[0;36m_mount\u001b[0;34m(mountpoint, force_remount, timeout_ms, ephemeral, readonly)\u001b[0m\n\u001b[1;32m    135\u001b[0m   )\n\u001b[1;32m    136\u001b[0m   \u001b[0;32mif\u001b[0m \u001b[0mephemeral\u001b[0m\u001b[0;34m:\u001b[0m\u001b[0;34m\u001b[0m\u001b[0;34m\u001b[0m\u001b[0m\n\u001b[0;32m--> 137\u001b[0;31m     _message.blocking_request(\n\u001b[0m\u001b[1;32m    138\u001b[0m         \u001b[0;34m'request_auth'\u001b[0m\u001b[0;34m,\u001b[0m\u001b[0;34m\u001b[0m\u001b[0;34m\u001b[0m\u001b[0m\n\u001b[1;32m    139\u001b[0m         \u001b[0mrequest\u001b[0m\u001b[0;34m=\u001b[0m\u001b[0;34m{\u001b[0m\u001b[0;34m'authType'\u001b[0m\u001b[0;34m:\u001b[0m \u001b[0;34m'dfs_ephemeral'\u001b[0m\u001b[0;34m}\u001b[0m\u001b[0;34m,\u001b[0m\u001b[0;34m\u001b[0m\u001b[0;34m\u001b[0m\u001b[0m\n",
            "\u001b[0;32m/usr/local/lib/python3.11/dist-packages/google/colab/_message.py\u001b[0m in \u001b[0;36mblocking_request\u001b[0;34m(request_type, request, timeout_sec, parent)\u001b[0m\n\u001b[1;32m    174\u001b[0m       \u001b[0mrequest_type\u001b[0m\u001b[0;34m,\u001b[0m \u001b[0mrequest\u001b[0m\u001b[0;34m,\u001b[0m \u001b[0mparent\u001b[0m\u001b[0;34m=\u001b[0m\u001b[0mparent\u001b[0m\u001b[0;34m,\u001b[0m \u001b[0mexpect_reply\u001b[0m\u001b[0;34m=\u001b[0m\u001b[0;32mTrue\u001b[0m\u001b[0;34m\u001b[0m\u001b[0;34m\u001b[0m\u001b[0m\n\u001b[1;32m    175\u001b[0m   )\n\u001b[0;32m--> 176\u001b[0;31m   \u001b[0;32mreturn\u001b[0m \u001b[0mread_reply_from_input\u001b[0m\u001b[0;34m(\u001b[0m\u001b[0mrequest_id\u001b[0m\u001b[0;34m,\u001b[0m \u001b[0mtimeout_sec\u001b[0m\u001b[0;34m)\u001b[0m\u001b[0;34m\u001b[0m\u001b[0;34m\u001b[0m\u001b[0m\n\u001b[0m",
            "\u001b[0;32m/usr/local/lib/python3.11/dist-packages/google/colab/_message.py\u001b[0m in \u001b[0;36mread_reply_from_input\u001b[0;34m(message_id, timeout_sec)\u001b[0m\n\u001b[1;32m    101\u001b[0m     ):\n\u001b[1;32m    102\u001b[0m       \u001b[0;32mif\u001b[0m \u001b[0;34m'error'\u001b[0m \u001b[0;32min\u001b[0m \u001b[0mreply\u001b[0m\u001b[0;34m:\u001b[0m\u001b[0;34m\u001b[0m\u001b[0;34m\u001b[0m\u001b[0m\n\u001b[0;32m--> 103\u001b[0;31m         \u001b[0;32mraise\u001b[0m \u001b[0mMessageError\u001b[0m\u001b[0;34m(\u001b[0m\u001b[0mreply\u001b[0m\u001b[0;34m[\u001b[0m\u001b[0;34m'error'\u001b[0m\u001b[0;34m]\u001b[0m\u001b[0;34m)\u001b[0m\u001b[0;34m\u001b[0m\u001b[0;34m\u001b[0m\u001b[0m\n\u001b[0m\u001b[1;32m    104\u001b[0m       \u001b[0;32mreturn\u001b[0m \u001b[0mreply\u001b[0m\u001b[0;34m.\u001b[0m\u001b[0mget\u001b[0m\u001b[0;34m(\u001b[0m\u001b[0;34m'data'\u001b[0m\u001b[0;34m,\u001b[0m \u001b[0;32mNone\u001b[0m\u001b[0;34m)\u001b[0m\u001b[0;34m\u001b[0m\u001b[0;34m\u001b[0m\u001b[0m\n\u001b[1;32m    105\u001b[0m \u001b[0;34m\u001b[0m\u001b[0m\n",
            "\u001b[0;31mMessageError\u001b[0m: Error: credential propagation was unsuccessful"
          ]
        }
      ]
    },
    {
      "cell_type": "code",
      "execution_count": null,
      "metadata": {
        "id": "9H0v96_i6Tpw"
      },
      "outputs": [],
      "source": [
        "import struct\n",
        "from pathlib import Path\n",
        "import math\n",
        "\n",
        "# Define Freeman direction codes (a to h for 0 to 7 directions)\n",
        "DIRECTION_CODES = 'abcdefgh'\n",
        "\n",
        "def read_pot_file(file_path):\n",
        "    \"\"\"Read the .pot file and extract character data and strokes.\"\"\"\n",
        "    characters = []\n",
        "    with open(file_path, 'rb') as f:\n",
        "        while True:\n",
        "            # Read sample size (2 bytes, little-endian unsigned short)\n",
        "            sample_size_data = f.read(2)\n",
        "            if len(sample_size_data) < 2:\n",
        "                break  # End of file\n",
        "            sample_size = struct.unpack('<H', sample_size_data)[0]\n",
        "            if sample_size == 0:\n",
        "                break  # Invalid sample size\n",
        "\n",
        "            # Read tag code (4 bytes, GB code in first 2 bytes)\n",
        "            tag_code_data = f.read(4)\n",
        "            if len(tag_code_data) < 4:\n",
        "                break\n",
        "            gb_code = tag_code_data[0:2]\n",
        "            try:\n",
        "                char = gb_code.decode('gb2312', errors='replace')\n",
        "            except:\n",
        "                char = '?'  # Fallback for invalid encoding\n",
        "\n",
        "            # Read stroke number (2 bytes, little-endian unsigned short)\n",
        "            stroke_num_data = f.read(2)\n",
        "            if len(stroke_num_data) < 2:\n",
        "                break\n",
        "            stroke_num = struct.unpack('<H', stroke_num_data)[0]\n",
        "\n",
        "            # Read stroke data\n",
        "            strokes = []\n",
        "            for _ in range(stroke_num):\n",
        "                stroke = []\n",
        "                while True:\n",
        "                    point_data = f.read(4)\n",
        "                    if len(point_data) < 4:\n",
        "                        break\n",
        "                    x, y = struct.unpack('<hh', point_data)  # Signed shorts\n",
        "                    if x == -1 and y == 0:  # Stroke end marker\n",
        "                        break\n",
        "                    stroke.append((x, y))\n",
        "                if len(stroke) > 1:  # Only include strokes with multiple points\n",
        "                    strokes.append(stroke)\n",
        "\n",
        "            # Read character end marker\n",
        "            end_marker_data = f.read(4)\n",
        "            if len(end_marker_data) < 4:\n",
        "                break\n",
        "            end_x, end_y = struct.unpack('<hh', end_marker_data)\n",
        "            if end_x != -1 or end_y != -1:\n",
        "                continue  # Skip if end marker is invalid\n",
        "\n",
        "            if strokes:  # Only add characters with valid strokes\n",
        "                characters.append((char, strokes))\n",
        "    return characters\n",
        "\n",
        "def compute_freeman_code(stroke):\n",
        "    \"\"\"Compute Freeman chain code for a stroke.\"\"\"\n",
        "    code = []\n",
        "    for i in range(len(stroke) - 1):\n",
        "        x1, y1 = stroke[i]\n",
        "        x2, y2 = stroke[i + 1]\n",
        "        dx = x2 - x1\n",
        "        dy = y2 - y1\n",
        "        if dx == 0 and dy == 0:\n",
        "            continue  # Skip if no movement\n",
        "        angle = math.degrees(math.atan2(dy, dx))\n",
        "        angle = (angle + 360) % 360  # Normalize to 0-360\n",
        "        direction = int(round(angle / 45)) % 8  # Map to 0-7\n",
        "        code.append(DIRECTION_CODES[direction])\n",
        "    return ''.join(code)\n",
        "\n",
        "def process_characters(characters):\n",
        "    \"\"\"Process characters and format output with Hanzi and Freeman codes.\"\"\"\n",
        "    output = []\n",
        "    for char, strokes in characters:\n",
        "        freeman_codes = [compute_freeman_code(stroke) for stroke in strokes]\n",
        "        freeman_str = '|'.join(freeman_codes)\n",
        "        output.append(f\"{char}\\n{freeman_str}\")\n",
        "    return output\n",
        "\n",
        "def main():\n",
        "    \"\"\"Main function to process the .pot file and print results.\"\"\"\n",
        "    file_path = Path(\"C001-f.pot\")\n",
        "    if not file_path.exists():\n",
        "        print(f\"Error: File {file_path} not found.\")\n",
        "        return\n",
        "    characters = read_pot_file(file_path)\n",
        "    output = process_characters(characters)\n",
        "    for line in output:\n",
        "        print(line)\n",
        "\n",
        "if __name__ == \"__main__\":\n",
        "    main()"
      ]
    }
  ]
}